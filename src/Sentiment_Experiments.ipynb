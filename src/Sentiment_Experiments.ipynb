{
 "cells": [
  {
   "cell_type": "code",
   "execution_count": 29,
   "metadata": {},
   "outputs": [],
   "source": [
    "#import custom functions for data pre-processing\n",
    "from sentiment_utilities import load_combine_split, tokenize, process_data, vector_agg, embed_prep\n",
    "\n",
    "#import modelling/data transform packages\n",
    "from sklearn.feature_extraction.text import TfidfVectorizer\n",
    "from sklearn.decomposition import TruncatedSVD, PCA\n",
    "from sklearn.model_selection import KFold\n",
    "from sklearn.model_selection import cross_val_score\n",
    "from sklearn.ensemble import RandomForestClassifier\n",
    "from sklearn import metrics\n",
    "import xgboost as xgb\n",
    "\n",
    "#import utility packages\n",
    "import matplotlib.pyplot as plt\n",
    "import numpy as np\n",
    "import pandas as pd\n",
    "import string"
   ]
  },
  {
   "cell_type": "code",
   "execution_count": null,
   "metadata": {},
   "outputs": [],
   "source": [
    "#if needed install fasttext\n",
    "#!pip install fasttext"
   ]
  },
  {
   "cell_type": "code",
   "execution_count": 35,
   "metadata": {},
   "outputs": [
    {
     "name": "stderr",
     "output_type": "stream",
     "text": [
      "Warning : `load_model` does not return WordVectorModel or SupervisedModel any more, but a `FastText` object which is very similar.\n"
     ]
    }
   ],
   "source": [
    "#import fasttext model\n",
    "import fasttext.util\n",
    "fasttext.util.download_model('en', if_exists='ignore')  # English\n",
    "ft = fasttext.load_model('cc.en.300.bin')"
   ]
  },
  {
   "cell_type": "code",
   "execution_count": 2,
   "metadata": {},
   "outputs": [],
   "source": [
    "#path to data\n",
    "path = '/Users/kknf069/Documents/Training/NLP/data/sentiment_labelled_sentences/'"
   ]
  },
  {
   "cell_type": "markdown",
   "metadata": {},
   "source": [
    "## Load Data"
   ]
  },
  {
   "cell_type": "code",
   "execution_count": 3,
   "metadata": {},
   "outputs": [
    {
     "name": "stdout",
     "output_type": "stream",
     "text": [
      "Train and test appropriately split\n",
      "Train shape is 1924 rows and 3 columns.\n",
      "Validate shape is 824 rows and 3 columns.\n"
     ]
    }
   ],
   "source": [
    "train, validate = load_combine_split(path)"
   ]
  },
  {
   "cell_type": "markdown",
   "metadata": {},
   "source": [
    "## TFIDF Experiment 0: Unsupervised analysis of training data"
   ]
  },
  {
   "cell_type": "code",
   "execution_count": 4,
   "metadata": {},
   "outputs": [],
   "source": [
    "train_X, train_y, val_X, val_y = process_data(train, validate, tfidf = True)"
   ]
  },
  {
   "cell_type": "code",
   "execution_count": 5,
   "metadata": {},
   "outputs": [],
   "source": [
    "vectorizer = TfidfVectorizer(ngram_range=(1,1), max_df=0.9)\n",
    "Xtr = vectorizer.fit_transform(train_X)"
   ]
  },
  {
   "cell_type": "code",
   "execution_count": 10,
   "metadata": {},
   "outputs": [],
   "source": [
    "svd = TruncatedSVD(n_components=2, random_state=42)\n",
    "data = svd.fit_transform(Xtr)"
   ]
  },
  {
   "cell_type": "code",
   "execution_count": 11,
   "metadata": {},
   "outputs": [
    {
     "data": {
      "image/png": "[encoded data removed]",
      "text/plain": [
       "<Figure size 432x288 with 1 Axes>"
      ]
     },
     "metadata": {
      "needs_background": "light"
     },
     "output_type": "display_data"
    }
   ],
   "source": [
    "pos = []\n",
    "neg = []\n",
    "for i in range(len(train_y)):\n",
    "    if train_y[i] =='1':\n",
    "        pos.append(data[i])\n",
    "    else:\n",
    "        neg.append(data[i])\n",
    "\n",
    "plt.scatter([i[0] for i in pos],\n",
    "            [i[1] for i in pos], color = 'b')\n",
    "plt.scatter([i[0] for i in neg],\n",
    "            [i[1] for i in neg], color = 'r')\n",
    "plt.show()"
   ]
  },
  {
   "cell_type": "code",
   "execution_count": 12,
   "metadata": {},
   "outputs": [
    {
     "name": "stdout",
     "output_type": "stream",
     "text": [
      "0.01559995374298759\n"
     ]
    }
   ],
   "source": [
    "print(svd.explained_variance_ratio_.sum())"
   ]
  },
  {
   "cell_type": "code",
   "execution_count": 13,
   "metadata": {},
   "outputs": [
    {
     "name": "stdout",
     "output_type": "stream",
     "text": [
      "0.5765152986106453\n"
     ]
    }
   ],
   "source": [
    "#explained variance with more components (300)\n",
    "svd = TruncatedSVD(n_components=300, random_state=42)\n",
    "data = svd.fit(Xtr)\n",
    "print(svd.explained_variance_ratio_.sum())"
   ]
  },
  {
   "cell_type": "markdown",
   "metadata": {},
   "source": [
    "## Experiment 1: Unigram only TFIDF"
   ]
  },
  {
   "cell_type": "code",
   "execution_count": 14,
   "metadata": {},
   "outputs": [],
   "source": [
    "vectorizer = TfidfVectorizer()\n",
    "Xtr = vectorizer.fit_transform(train_X)\n",
    "Xval = vectorizer.transform(val_X)"
   ]
  },
  {
   "cell_type": "code",
   "execution_count": 15,
   "metadata": {},
   "outputs": [
    {
     "name": "stderr",
     "output_type": "stream",
     "text": [
      "/Users/kknf069/anaconda3/envs/py37/lib/python3.7/site-packages/sklearn/model_selection/_split.py:297: FutureWarning: Setting a random_state has no effect since shuffle is False. This will raise an error in 0.24. You should leave random_state to its default (None), or set shuffle=True.\n",
      "  FutureWarning\n"
     ]
    },
    {
     "name": "stdout",
     "output_type": "stream",
     "text": [
      "Accuracy: 76.61% (3.37%)\n",
      "[0.80310881 0.82901554 0.76683938 0.77202073 0.77604167 0.72395833\n",
      " 0.70833333 0.78125    0.75       0.75      ]\n"
     ]
    }
   ],
   "source": [
    "model = RandomForestClassifier()\n",
    "kfold = KFold(n_splits=10, random_state=7)\n",
    "results = cross_val_score(model, Xtr, train_y, cv=kfold)\n",
    "print(\"Accuracy: %.2f%% (%.2f%%)\" % (results.mean()*100, results.std()*100))\n",
    "print(results)"
   ]
  },
  {
   "cell_type": "code",
   "execution_count": 16,
   "metadata": {},
   "outputs": [],
   "source": [
    "rf = RandomForestClassifier()\n",
    "unimod = rf.fit(Xtr, train_y)\n",
    "pred_class = unimod.predict(Xval)\n",
    "pred_prob_u = unimod.predict_proba(Xval)"
   ]
  },
  {
   "cell_type": "markdown",
   "metadata": {},
   "source": [
    "## Experiment 2: Unigram+Bigram TFIDF"
   ]
  },
  {
   "cell_type": "code",
   "execution_count": 17,
   "metadata": {},
   "outputs": [],
   "source": [
    "vectorizer_bi = TfidfVectorizer(ngram_range=(1,2))\n",
    "Xtr_bi = vectorizer_bi.fit_transform(train_X)\n",
    "Xval_bi = vectorizer_bi.transform(val_X)"
   ]
  },
  {
   "cell_type": "code",
   "execution_count": 18,
   "metadata": {},
   "outputs": [
    {
     "name": "stderr",
     "output_type": "stream",
     "text": [
      "/Users/kknf069/anaconda3/envs/py37/lib/python3.7/site-packages/sklearn/model_selection/_split.py:297: FutureWarning: Setting a random_state has no effect since shuffle is False. This will raise an error in 0.24. You should leave random_state to its default (None), or set shuffle=True.\n",
      "  FutureWarning\n"
     ]
    },
    {
     "name": "stdout",
     "output_type": "stream",
     "text": [
      "Accuracy: 75.98% (4.58%)\n",
      "[0.79792746 0.82901554 0.74093264 0.78756477 0.77604167 0.68229167\n",
      " 0.703125   0.79166667 0.78125    0.70833333]\n"
     ]
    }
   ],
   "source": [
    "model = RandomForestClassifier()\n",
    "kfold = KFold(n_splits=10, random_state=7)\n",
    "results = cross_val_score(model, Xtr_bi, train_y, cv=kfold)\n",
    "print(\"Accuracy: %.2f%% (%.2f%%)\" % (results.mean()*100, results.std()*100))\n",
    "print(results)"
   ]
  },
  {
   "cell_type": "code",
   "execution_count": 19,
   "metadata": {},
   "outputs": [],
   "source": [
    "rf = RandomForestClassifier()\n",
    "unimod = rf.fit(Xtr_bi, train_y)\n",
    "pred_class = unimod.predict(Xval_bi)\n",
    "pred_prob_b = unimod.predict_proba(Xval_bi)"
   ]
  },
  {
   "cell_type": "markdown",
   "metadata": {},
   "source": [
    "## Experiment 3 XG Boost with UniGram "
   ]
  },
  {
   "cell_type": "code",
   "execution_count": 21,
   "metadata": {},
   "outputs": [
    {
     "name": "stderr",
     "output_type": "stream",
     "text": [
      "/Users/kknf069/anaconda3/envs/py37/lib/python3.7/site-packages/sklearn/model_selection/_split.py:297: FutureWarning: Setting a random_state has no effect since shuffle is False. This will raise an error in 0.24. You should leave random_state to its default (None), or set shuffle=True.\n",
      "  FutureWarning\n"
     ]
    },
    {
     "name": "stdout",
     "output_type": "stream",
     "text": [
      "Accuracy: 75.10% (3.17%)\n",
      "[0.78238342 0.79792746 0.73056995 0.79274611 0.70833333 0.72916667\n",
      " 0.703125   0.75520833 0.76041667 0.75      ]\n"
     ]
    }
   ],
   "source": [
    "model = xgb.XGBClassifier()\n",
    "kfold = KFold(n_splits=10, random_state=7)\n",
    "results = cross_val_score(model, Xtr, train_y, cv=kfold)\n",
    "print(\"Accuracy: %.2f%% (%.2f%%)\" % (results.mean()*100, results.std()*100))\n",
    "print(results)"
   ]
  },
  {
   "cell_type": "code",
   "execution_count": 23,
   "metadata": {},
   "outputs": [],
   "source": [
    "xg = xgb.XGBClassifier()\n",
    "unimod = xg.fit(Xtr, train_y)\n",
    "pred_class = unimod.predict(Xval)\n",
    "pred_prob_x = unimod.predict_proba(Xval)"
   ]
  },
  {
   "cell_type": "markdown",
   "metadata": {},
   "source": [
    "## Combine into single frame"
   ]
  },
  {
   "cell_type": "code",
   "execution_count": 26,
   "metadata": {},
   "outputs": [],
   "source": [
    "u = [i[1] for i in pred_prob_u]\n",
    "b =[i[1] for i in pred_prob_b]\n",
    "x = [i[1] for i in pred_prob_x]\n",
    "label=np.array([int(i) for i in val_y])"
   ]
  },
  {
   "cell_type": "code",
   "execution_count": 27,
   "metadata": {},
   "outputs": [],
   "source": [
    "frame = []\n",
    "for i in range(len(u)):\n",
    "    frame.append([ round(u[i],2),\n",
    "                   round(b[i],2),\n",
    "                   round(x[i],2),\n",
    "                   round((u[i]+b[i]+x[i])/3, 2),\n",
    "                   int(val_y[i]),  \n",
    "                 ])"
   ]
  },
  {
   "cell_type": "code",
   "execution_count": 30,
   "metadata": {},
   "outputs": [],
   "source": [
    "df_scores = pd.DataFrame(frame, columns=['rf_uni', 'rf_uni_bi', 'xgb_uni', 'avg_3', 'class'])"
   ]
  },
  {
   "cell_type": "code",
   "execution_count": 31,
   "metadata": {},
   "outputs": [
    {
     "data": {
      "image/png": "[encoded data removed]",
      "text/plain": [
       "<Figure size 432x288 with 1 Axes>"
      ]
     },
     "metadata": {
      "needs_background": "light"
     },
     "output_type": "display_data"
    },
    {
     "data": {
      "image/png": "[encoded data removed]",
      "text/plain": [
       "<Figure size 432x288 with 1 Axes>"
      ]
     },
     "metadata": {
      "needs_background": "light"
     },
     "output_type": "display_data"
    },
    {
     "data": {
      "image/png": "[encoded data removed]",
      "text/plain": [
       "<Figure size 432x288 with 1 Axes>"
      ]
     },
     "metadata": {
      "needs_background": "light"
     },
     "output_type": "display_data"
    },
    {
     "data": {
      "image/png": "[encoded data removed]",
      "text/plain": [
       "<Figure size 432x288 with 1 Axes>"
      ]
     },
     "metadata": {
      "needs_background": "light"
     },
     "output_type": "display_data"
    }
   ],
   "source": [
    "for i in ['rf_uni', 'rf_uni_bi', 'xgb_uni', 'avg_3']:\n",
    "    fpr, tpr, _ = metrics.roc_curve(df_scores['class'],  df_scores[i])\n",
    "    auc = metrics.roc_auc_score(df_scores['class'],  df_scores[i])\n",
    "    plt.plot(fpr,tpr,label=\"validation text, auc=\"+str(auc))\n",
    "    plt.legend(loc=4)\n",
    "    plt.show()"
   ]
  },
  {
   "cell_type": "markdown",
   "metadata": {},
   "source": [
    "## Experiment with fastext pretrained model"
   ]
  },
  {
   "cell_type": "code",
   "execution_count": 32,
   "metadata": {},
   "outputs": [],
   "source": [
    "#custom punct removal list\n",
    "punct = ('').join([i for i in string.punctuation if i != \"'\"])"
   ]
  },
  {
   "cell_type": "code",
   "execution_count": 33,
   "metadata": {},
   "outputs": [],
   "source": [
    "train_X, train_y, val_X, val_y = process_data(train, validate, tfidf = False)"
   ]
  },
  {
   "cell_type": "markdown",
   "metadata": {},
   "source": [
    "## Unsupervised vizualization"
   ]
  },
  {
   "cell_type": "code",
   "execution_count": 36,
   "metadata": {},
   "outputs": [
    {
     "name": "stdout",
     "output_type": "stream",
     "text": [
      "(1924, 300)\n"
     ]
    }
   ],
   "source": [
    "X_train_vec = embed_prep(ft, train_X, punct)\n",
    "pca = PCA(n_components=2, svd_solver='full')\n",
    "twod_pca= pca.fit_transform(X_train_vec)"
   ]
  },
  {
   "cell_type": "code",
   "execution_count": 37,
   "metadata": {},
   "outputs": [
    {
     "data": {
      "image/png": "[encoded data removed]",
      "text/plain": [
       "<Figure size 432x288 with 1 Axes>"
      ]
     },
     "metadata": {
      "needs_background": "light"
     },
     "output_type": "display_data"
    }
   ],
   "source": [
    "pos = []\n",
    "neg = []\n",
    "for i in range(len(train_y)):\n",
    "    if train_y[i] =='1':\n",
    "        pos.append(twod_pca[i])\n",
    "    else:\n",
    "        neg.append(twod_pca[i])\n",
    "\n",
    "plt.scatter([i[0] for i in pos],\n",
    "            [i[1] for i in pos], color = 'b')\n",
    "plt.scatter([i[0] for i in neg],\n",
    "            [i[1] for i in neg], color = 'r')\n",
    "plt.show()"
   ]
  },
  {
   "cell_type": "markdown",
   "metadata": {},
   "source": [
    "## FastText Experiment 1: Random Forest"
   ]
  },
  {
   "cell_type": "code",
   "execution_count": 38,
   "metadata": {},
   "outputs": [
    {
     "name": "stderr",
     "output_type": "stream",
     "text": [
      "/Users/kknf069/anaconda3/envs/py37/lib/python3.7/site-packages/sklearn/model_selection/_split.py:297: FutureWarning: Setting a random_state has no effect since shuffle is False. This will raise an error in 0.24. You should leave random_state to its default (None), or set shuffle=True.\n",
      "  FutureWarning\n"
     ]
    },
    {
     "name": "stdout",
     "output_type": "stream",
     "text": [
      "Accuracy: 72.25% (2.17%)\n",
      "[0.75324675 0.72207792 0.68571429 0.72987013 0.72135417]\n"
     ]
    }
   ],
   "source": [
    "model = RandomForestClassifier()\n",
    "kfold = KFold(n_splits=5, random_state=7)\n",
    "results = cross_val_score(model, X_train_vec, train_y, cv=kfold)\n",
    "print(\"Accuracy: %.2f%% (%.2f%%)\" % (results.mean()*100, results.std()*100))\n",
    "print(results)"
   ]
  },
  {
   "cell_type": "code",
   "execution_count": 42,
   "metadata": {},
   "outputs": [
    {
     "name": "stdout",
     "output_type": "stream",
     "text": [
      "(824, 300)\n"
     ]
    }
   ],
   "source": [
    "X_val_vec = embed_prep(ft, val_X, punct)\n",
    "rf = RandomForestClassifier()\n",
    "rfft = rf.fit(X_train_vec, train_y)\n",
    "pred_class = rfft.predict(X_val_vec)\n",
    "pred_prob_rfft = rfft.predict_proba(X_val_vec)"
   ]
  },
  {
   "cell_type": "markdown",
   "metadata": {},
   "source": [
    "## FastText Experiment 2: XGBoost w/ Grid Search"
   ]
  },
  {
   "cell_type": "code",
   "execution_count": 40,
   "metadata": {},
   "outputs": [],
   "source": [
    "def xbg_crossval(e, md, ns, X_train_vec, train_y):\n",
    "    model = xgb.XGBClassifier(eta = e, max_depth=md)\n",
    "    kfold = KFold(n_splits=ns, random_state=7)\n",
    "    results = cross_val_score(model, X_train_vec, train_y, cv=kfold)\n",
    "    print(\"Accuracy: %.2f%% (%.2f%%)\" % (results.mean()*100, results.std()*100))\n",
    "    print(results)"
   ]
  },
  {
   "cell_type": "code",
   "execution_count": 41,
   "metadata": {},
   "outputs": [
    {
     "name": "stdout",
     "output_type": "stream",
     "text": [
      "\n",
      "===========================================\n",
      "eta = 0.025\n",
      "max_depth = 4\n"
     ]
    },
    {
     "name": "stderr",
     "output_type": "stream",
     "text": [
      "/Users/kknf069/anaconda3/envs/py37/lib/python3.7/site-packages/sklearn/model_selection/_split.py:297: FutureWarning: Setting a random_state has no effect since shuffle is False. This will raise an error in 0.24. You should leave random_state to its default (None), or set shuffle=True.\n",
      "  FutureWarning\n"
     ]
    },
    {
     "name": "stdout",
     "output_type": "stream",
     "text": [
      "Accuracy: 71.83% (3.11%)\n",
      "[0.75584416 0.75064935 0.67792208 0.69090909 0.71614583]\n",
      "\n",
      "===========================================\n",
      "eta = 0.025\n",
      "max_depth = 6\n",
      "Accuracy: 72.82% (2.20%)\n",
      "[0.74805195 0.75064935 0.6961039  0.73766234 0.70833333]\n",
      "\n",
      "===========================================\n",
      "eta = 0.025\n",
      "max_depth = 8\n",
      "Accuracy: 72.30% (1.42%)\n",
      "[0.72987013 0.73766234 0.6961039  0.72727273 0.72395833]\n",
      "\n",
      "===========================================\n",
      "eta = 0.025\n",
      "max_depth = 10\n",
      "Accuracy: 71.93% (1.73%)\n",
      "[0.72727273 0.74025974 0.68831169 0.72467532 0.71614583]\n",
      "\n",
      "===========================================\n",
      "eta = 0.05\n",
      "max_depth = 4\n",
      "Accuracy: 73.65% (2.72%)\n",
      "[0.77142857 0.76363636 0.6987013  0.72207792 0.7265625 ]\n",
      "\n",
      "===========================================\n",
      "eta = 0.05\n",
      "max_depth = 6\n",
      "Accuracy: 73.70% (1.54%)\n",
      "[0.75584416 0.74805195 0.71168831 0.74025974 0.72916667]\n",
      "\n",
      "===========================================\n",
      "eta = 0.05\n",
      "max_depth = 8\n",
      "Accuracy: 73.60% (2.39%)\n",
      "[0.74805195 0.76623377 0.6961039  0.72467532 0.74479167]\n",
      "\n",
      "===========================================\n",
      "eta = 0.05\n",
      "max_depth = 10\n",
      "Accuracy: 73.91% (2.02%)\n",
      "[0.76623377 0.75324675 0.70649351 0.73246753 0.73697917]\n",
      "\n",
      "===========================================\n",
      "eta = 0.075\n",
      "max_depth = 4\n",
      "Accuracy: 74.74% (1.92%)\n",
      "[0.77402597 0.75844156 0.72207792 0.75324675 0.72916667]\n",
      "\n",
      "===========================================\n",
      "eta = 0.075\n",
      "max_depth = 6\n",
      "Accuracy: 74.64% (1.92%)\n",
      "[0.75844156 0.77142857 0.71948052 0.75324675 0.72916667]\n",
      "\n",
      "===========================================\n",
      "eta = 0.075\n",
      "max_depth = 8\n",
      "Accuracy: 74.53% (2.05%)\n",
      "[0.75324675 0.77142857 0.71168831 0.75584416 0.734375  ]\n",
      "\n",
      "===========================================\n",
      "eta = 0.075\n",
      "max_depth = 10\n",
      "Accuracy: 75.31% (1.84%)\n",
      "[0.76363636 0.77142857 0.72207792 0.76623377 0.7421875 ]\n",
      "\n",
      "===========================================\n",
      "eta = 0.1\n",
      "max_depth = 4\n",
      "Accuracy: 75.10% (1.92%)\n",
      "[0.75064935 0.77922078 0.71948052 0.74805195 0.7578125 ]\n",
      "\n",
      "===========================================\n",
      "eta = 0.1\n",
      "max_depth = 6\n",
      "Accuracy: 75.52% (2.52%)\n",
      "[0.76623377 0.78701299 0.72207792 0.77142857 0.72916667]\n",
      "\n",
      "===========================================\n",
      "eta = 0.1\n",
      "max_depth = 8\n",
      "Accuracy: 75.36% (2.18%)\n",
      "[0.76623377 0.77662338 0.71428571 0.76363636 0.74739583]\n",
      "\n",
      "===========================================\n",
      "eta = 0.1\n",
      "max_depth = 10\n",
      "Accuracy: 74.79% (2.78%)\n",
      "[0.75324675 0.78701299 0.70649351 0.76363636 0.72916667]\n",
      "\n",
      "===========================================\n",
      "eta = 0.125\n",
      "max_depth = 4\n",
      "Accuracy: 76.09% (2.19%)\n",
      "[0.77142857 0.79220779 0.73506494 0.76883117 0.73697917]\n",
      "\n",
      "===========================================\n",
      "eta = 0.125\n",
      "max_depth = 6\n",
      "Accuracy: 75.93% (2.79%)\n",
      "[0.77662338 0.79220779 0.71168831 0.76883117 0.74739583]\n",
      "\n",
      "===========================================\n",
      "eta = 0.125\n",
      "max_depth = 8\n",
      "Accuracy: 75.88% (3.09%)\n",
      "[0.78701299 0.78441558 0.7012987  0.76103896 0.76041667]\n",
      "\n",
      "===========================================\n",
      "eta = 0.125\n",
      "max_depth = 10\n",
      "Accuracy: 74.63% (2.35%)\n",
      "[0.76883117 0.77662338 0.71948052 0.74545455 0.72135417]\n",
      "\n",
      "===========================================\n",
      "eta = 0.15\n",
      "max_depth = 4\n",
      "Accuracy: 75.00% (2.57%)\n",
      "[0.77402597 0.78181818 0.71428571 0.75064935 0.72916667]\n",
      "\n",
      "===========================================\n",
      "eta = 0.15\n",
      "max_depth = 6\n",
      "Accuracy: 75.83% (2.57%)\n",
      "[0.78441558 0.77142857 0.71428571 0.77662338 0.74479167]\n",
      "\n",
      "===========================================\n",
      "eta = 0.15\n",
      "max_depth = 8\n",
      "Accuracy: 75.57% (2.28%)\n",
      "[0.77142857 0.78701299 0.71948052 0.75064935 0.75      ]\n",
      "\n",
      "===========================================\n",
      "eta = 0.15\n",
      "max_depth = 10\n",
      "Accuracy: 75.68% (1.93%)\n",
      "[0.76363636 0.77402597 0.71948052 0.75844156 0.76822917]\n",
      "\n",
      "===========================================\n",
      "eta = 0.175\n",
      "max_depth = 4\n",
      "Accuracy: 74.89% (3.60%)\n",
      "[0.76623377 0.8        0.6987013  0.76103896 0.71875   ]\n",
      "\n",
      "===========================================\n",
      "eta = 0.175\n",
      "max_depth = 6\n",
      "Accuracy: 75.42% (2.82%)\n",
      "[0.7974026  0.76623377 0.71168831 0.75324675 0.7421875 ]\n",
      "\n",
      "===========================================\n",
      "eta = 0.175\n",
      "max_depth = 8\n",
      "Accuracy: 74.17% (2.23%)\n",
      "[0.74285714 0.77922078 0.70909091 0.74025974 0.73697917]\n",
      "\n",
      "===========================================\n",
      "eta = 0.175\n",
      "max_depth = 10\n",
      "Accuracy: 75.62% (2.65%)\n",
      "[0.76883117 0.78701299 0.71168831 0.77142857 0.7421875 ]\n",
      "\n",
      "===========================================\n",
      "eta = 0.2\n",
      "max_depth = 4\n",
      "Accuracy: 76.40% (2.73%)\n",
      "[0.78441558 0.80519481 0.73766234 0.75844156 0.734375  ]\n",
      "\n",
      "===========================================\n",
      "eta = 0.2\n",
      "max_depth = 6\n",
      "Accuracy: 75.62% (2.78%)\n",
      "[0.78441558 0.78441558 0.70909091 0.75064935 0.75260417]\n",
      "\n",
      "===========================================\n",
      "eta = 0.2\n",
      "max_depth = 8\n",
      "Accuracy: 75.16% (2.15%)\n",
      "[0.74545455 0.77922078 0.71688312 0.76883117 0.74739583]\n",
      "\n",
      "===========================================\n",
      "eta = 0.2\n",
      "max_depth = 10\n",
      "Accuracy: 75.78% (1.46%)\n",
      "[0.76623377 0.78181818 0.74025974 0.75064935 0.75      ]\n"
     ]
    },
    {
     "data": {
      "text/plain": [
       "'\\n===========================================\\neta = 0.1\\nmax_depth = 4\\nAccuracy: 76.35% (2.34%)\\n[0.76363636 0.76623377 0.76623377 0.7974026  0.72395833]\\n'"
      ]
     },
     "execution_count": 41,
     "metadata": {},
     "output_type": "execute_result"
    }
   ],
   "source": [
    "for e in [0.025, 0.05, 0.075, 0.1, 0.125, 0.15, 0.175, 0.2]:\n",
    "    for md in range(4, 12, 2):\n",
    "        print(\"\\n===========================================\")\n",
    "        print('eta = '+str(e))\n",
    "        print('max_depth = '+str(md))\n",
    "        xbg_crossval(e, md, 5, X_train_vec, train_y)\n",
    "'''\n",
    "===========================================\n",
    "eta = 0.1\n",
    "max_depth = 4\n",
    "Accuracy: 76.35% (2.34%)\n",
    "[0.76363636 0.76623377 0.76623377 0.7974026  0.72395833]\n",
    "'''"
   ]
  },
  {
   "cell_type": "code",
   "execution_count": 43,
   "metadata": {},
   "outputs": [],
   "source": [
    "xg = xgb.XGBClassifier(eta = 0.2, max_depth = 4)\n",
    "xgft = xg.fit(X_train_vec, train_y)\n",
    "pred_class = xgft.predict(X_val_vec)\n",
    "pred_prob_xgft = xgft.predict_proba(X_val_vec)"
   ]
  },
  {
   "cell_type": "markdown",
   "metadata": {},
   "source": [
    "## Combine all models into one dataframe for analysis"
   ]
  },
  {
   "cell_type": "code",
   "execution_count": 44,
   "metadata": {},
   "outputs": [],
   "source": [
    "u = [i[1] for i in pred_prob_u]\n",
    "b =[i[1] for i in pred_prob_b]\n",
    "x = [i[1] for i in pred_prob_x]\n",
    "rft= [i[1] for i in pred_prob_rfft]\n",
    "xft =[i[1] for i in pred_prob_xgft]\n",
    "label=np.array([int(i) for i in val_y])"
   ]
  },
  {
   "cell_type": "code",
   "execution_count": 45,
   "metadata": {},
   "outputs": [],
   "source": [
    "frame = []\n",
    "for i in range(len(u)):\n",
    "    frame.append([ round(u[i],2),\n",
    "                   round(b[i],2),\n",
    "                   round(x[i],2),\n",
    "                   round(rft[i],2),\n",
    "                   round(xft[i],2),\n",
    "                   round((u[i]+b[i]+x[i])/3, 2),\n",
    "                   round((u[i]+b[i]+x[i]+rft[i]+xft[i])/5, 2),\n",
    "                   int(val_y[i]),  \n",
    "                 ])"
   ]
  },
  {
   "cell_type": "code",
   "execution_count": 46,
   "metadata": {},
   "outputs": [],
   "source": [
    "df_scores = pd.DataFrame(frame, columns=['rf_uni', \n",
    "                                         'rf_uni_bi', \n",
    "                                         'xgb_uni',\n",
    "                                         'rf_ft',\n",
    "                                         'xgb_ft',\n",
    "                                         'avg_3_tfidf',\n",
    "                                         'avg_5_models',\n",
    "                                         'class'])"
   ]
  },
  {
   "cell_type": "code",
   "execution_count": 47,
   "metadata": {},
   "outputs": [
    {
     "name": "stdout",
     "output_type": "stream",
     "text": [
      "\n",
      "ROC Curve for rf_uni\n"
     ]
    },
    {
     "data": {
      "image/png": "[encoded data removed]",
      "text/plain": [
       "<Figure size 432x288 with 1 Axes>"
      ]
     },
     "metadata": {
      "needs_background": "light"
     },
     "output_type": "display_data"
    },
    {
     "name": "stdout",
     "output_type": "stream",
     "text": [
      "\n",
      "ROC Curve for rf_uni_bi\n"
     ]
    },
    {
     "data": {
      "image/png": "[encoded data removed]",
      "text/plain": [
       "<Figure size 432x288 with 1 Axes>"
      ]
     },
     "metadata": {
      "needs_background": "light"
     },
     "output_type": "display_data"
    },
    {
     "name": "stdout",
     "output_type": "stream",
     "text": [
      "\n",
      "ROC Curve for xgb_uni\n"
     ]
    },
    {
     "data": {
      "image/png": "[encoded data removed]",
      "text/plain": [
       "<Figure size 432x288 with 1 Axes>"
      ]
     },
     "metadata": {
      "needs_background": "light"
     },
     "output_type": "display_data"
    },
    {
     "name": "stdout",
     "output_type": "stream",
     "text": [
      "\n",
      "ROC Curve for rf_ft\n"
     ]
    },
    {
     "data": {
      "image/png": "[encoded data removed]",
      "text/plain": [
       "<Figure size 432x288 with 1 Axes>"
      ]
     },
     "metadata": {
      "needs_background": "light"
     },
     "output_type": "display_data"
    },
    {
     "name": "stdout",
     "output_type": "stream",
     "text": [
      "\n",
      "ROC Curve for xgb_ft\n"
     ]
    },
    {
     "data": {
      "image/png": "[encoded data removed]",
      "text/plain": [
       "<Figure size 432x288 with 1 Axes>"
      ]
     },
     "metadata": {
      "needs_background": "light"
     },
     "output_type": "display_data"
    },
    {
     "name": "stdout",
     "output_type": "stream",
     "text": [
      "\n",
      "ROC Curve for avg_3_tfidf\n"
     ]
    },
    {
     "data": {
      "image/png": "[encoded data removed]",
      "text/plain": [
       "<Figure size 432x288 with 1 Axes>"
      ]
     },
     "metadata": {
      "needs_background": "light"
     },
     "output_type": "display_data"
    },
    {
     "name": "stdout",
     "output_type": "stream",
     "text": [
      "\n",
      "ROC Curve for avg_5_models\n"
     ]
    },
    {
     "data": {
      "image/png": "[encoded data removed]",
      "text/plain": [
       "<Figure size 432x288 with 1 Axes>"
      ]
     },
     "metadata": {
      "needs_background": "light"
     },
     "output_type": "display_data"
    }
   ],
   "source": [
    "for i in ['rf_uni', \n",
    "          'rf_uni_bi', \n",
    "          'xgb_uni',\n",
    "          'rf_ft',\n",
    "          'xgb_ft',\n",
    "          'avg_3_tfidf',\n",
    "          'avg_5_models']:\n",
    "    print('\\nROC Curve for '+ i)\n",
    "    fpr, tpr, _ = metrics.roc_curve(df_scores['class'],  df_scores[i])\n",
    "    auc = metrics.roc_auc_score(df_scores['class'],  df_scores[i])\n",
    "    plt.plot(fpr,tpr,label=\"validation text, auc=\"+str(auc))\n",
    "    plt.legend(loc=4)\n",
    "    plt.show()"
   ]
  },
  {
   "cell_type": "code",
   "execution_count": null,
   "metadata": {},
   "outputs": [],
   "source": []
  }
 ],
 "metadata": {
  "kernelspec": {
   "display_name": "Python 3",
   "language": "python",
   "name": "python3"
  },
  "language_info": {
   "codemirror_mode": {
    "name": "ipython",
    "version": 3
   },
   "file_extension": ".py",
   "mimetype": "text/x-python",
   "name": "python",
   "nbconvert_exporter": "python",
   "pygments_lexer": "ipython3",
   "version": "3.7.7"
  }
 },
 "nbformat": 4,
 "nbformat_minor": 4
}
